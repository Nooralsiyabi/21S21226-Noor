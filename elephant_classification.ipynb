{
  "nbformat": 4,
  "nbformat_minor": 0,
  "metadata": {
    "colab": {
      "provenance": [],
      "authorship_tag": "ABX9TyNzJXWWcZ9tHt5lAYI1QCDX",
      "include_colab_link": true
    },
    "kernelspec": {
      "name": "python3",
      "display_name": "Python 3"
    },
    "language_info": {
      "name": "python"
    }
  },
  "cells": [
    {
      "cell_type": "markdown",
      "metadata": {
        "id": "view-in-github",
        "colab_type": "text"
      },
      "source": [
        "<a href=\"https://colab.research.google.com/github/Nooralsiyabi/21S21226-Noor/blob/main/elephant_classification.ipynb\" target=\"_parent\"><img src=\"https://colab.research.google.com/assets/colab-badge.svg\" alt=\"Open In Colab\"/></a>"
      ]
    },
    {
      "cell_type": "code",
      "execution_count": null,
      "metadata": {
        "colab": {
          "base_uri": "https://localhost:8080/"
        },
        "id": "o6xBLOJmZPQS",
        "outputId": "bbb5fe21-371c-4542-c2c3-73acf1a1022a"
      },
      "outputs": [
        {
          "output_type": "stream",
          "name": "stdout",
          "text": [
            "Mounted at /content/drive\n"
          ]
        }
      ],
      "source": [
        "#My dataset is available in googledrive; so I am accessing my drive from colab\n",
        "from google.colab import drive\n",
        "drive.mount('/content/drive', force_remount=True)\n",
        "#Once this is executed, you will see your drive appearing on the left hand side"
      ]
    },
    {
      "cell_type": "code",
      "source": [
        "train_dir = '/content/drive/MyDrive/elephant_dataset/train'\n",
        "test_dir = '/content/drive/MyDrive/elephant_dataset/test'"
      ],
      "metadata": {
        "id": "xatFid_rjdhD"
      },
      "execution_count": 3,
      "outputs": []
    },
    {
      "cell_type": "code",
      "source": [
        "import os\n",
        "print(\"Training - African:\", len(os.listdir('/content/drive/MyDrive/elephant_dataset/train/African')))\n",
        "print(\"Training - Asian:\", len(os.listdir('/content/drive/MyDrive/elephant_dataset/train/Asian')))\n",
        "print(\"Testing - African:\", len(os.listdir('/content/drive/MyDrive/elephant_dataset/test/African')))\n",
        "print(\"Testing - Asian:\", len(os.listdir('/content/drive/MyDrive/elephant_dataset/test/Asian')))"
      ],
      "metadata": {
        "colab": {
          "base_uri": "https://localhost:8080/"
        },
        "id": "LQg4kPd47zy2",
        "outputId": "bbf7c548-eb79-4a2d-f922-8a913bf829b0"
      },
      "execution_count": 9,
      "outputs": [
        {
          "output_type": "stream",
          "name": "stdout",
          "text": [
            "Training - African: 420\n",
            "Training - Asian: 420\n",
            "Testing - African: 97\n",
            "Testing - Asian: 91\n"
          ]
        }
      ]
    },
    {
      "cell_type": "code",
      "source": [
        "import tensorflow as tf\n",
        "from tensorflow.keras.preprocessing.image import ImageDataGenerator\n",
        "\n",
        "# Create ImageDataGenerator for training set\n",
        "train_datagen = ImageDataGenerator(\n",
        "    rescale=1./255,\n",
        "    validation_split=0.2  # Split 20% of the images for validation\n",
        ")\n",
        "\n",
        "# Load and prepare training data\n",
        "train_data = train_datagen.flow_from_directory(\n",
        "    train_dir,\n",
        "    target_size=(256,256),\n",
        "    batch_size=32,\n",
        "    class_mode='binary',\n",
        "    subset='training'\n",
        ")\n",
        "\n",
        "# Create ImageDataGenerator for validation set\n",
        "validation_datagen = ImageDataGenerator(\n",
        "    rescale=1./255,\n",
        "    validation_split=0.2\n",
        ")\n",
        "\n",
        "# Load and prepare validation data\n",
        "validation_data = validation_datagen.flow_from_directory(\n",
        "    train_dir,\n",
        "    target_size=(256,256),\n",
        "    batch_size=32,\n",
        "    class_mode='binary',\n",
        "    subset='validation'\n",
        ")"
      ],
      "metadata": {
        "colab": {
          "base_uri": "https://localhost:8080/"
        },
        "id": "QvEtTb99-fEa",
        "outputId": "f7eea828-fba8-419d-f5bd-bb8a5e7dd39c"
      },
      "execution_count": 11,
      "outputs": [
        {
          "output_type": "stream",
          "name": "stdout",
          "text": [
            "Found 672 images belonging to 2 classes.\n",
            "Found 168 images belonging to 2 classes.\n"
          ]
        }
      ]
    },
    {
      "cell_type": "code",
      "source": [
        "from tensorflow import keras\n",
        "from keras import Sequential\n",
        "from keras.layers import Dense,Conv2D,MaxPooling2D,Flatten,BatchNormalization,UpSampling2D, Dropout"
      ],
      "metadata": {
        "id": "EWckavFgCPtd"
      },
      "execution_count": 13,
      "outputs": []
    },
    {
      "cell_type": "code",
      "source": [
        "# create CNN model - custom-made\n",
        "\n",
        "model = Sequential()\n",
        "\n",
        "model.add(Conv2D(32,kernel_size=(3,3),padding='valid',activation='relu',input_shape=(256,256,3)))  # 32 filters\n",
        "model.add(MaxPooling2D(pool_size=(2,2),strides=2,padding='valid'))\n",
        "\n",
        "model.add(Conv2D(64,kernel_size=(3,3),padding='valid',activation='relu'))\n",
        "model.add(MaxPooling2D(pool_size=(2,2),strides=2,padding='valid'))\n",
        "\n",
        "model.add(Conv2D(128,kernel_size=(3,3),padding='valid',activation='relu'))\n",
        "model.add(MaxPooling2D(pool_size=(2,2),strides=2,padding='valid'))\n",
        "\n",
        "model.add(Flatten())\n",
        "\n",
        "model.add(Dense(128,activation='relu')) #feature reduction\n",
        "model.add(Dense(64,activation='relu'))\n",
        "model.add(Dense(1,activation='sigmoid'))  #output layer"
      ],
      "metadata": {
        "id": "d0v2Y8TBCRaS"
      },
      "execution_count": null,
      "outputs": []
    },
    {
      "cell_type": "code",
      "source": [
        "from keras.optimizers import Adam\n",
        "model.compile(optimizer=Adam(learning_rate=0.001),loss='binary_crossentropy',metrics=['accuracy']) #binary_crossentropy - binary classification"
      ],
      "metadata": {
        "id": "J04Rryw5DAbY"
      },
      "execution_count": 15,
      "outputs": []
    },
    {
      "cell_type": "code",
      "source": [
        "history = model.fit(train_data, epochs=20, validation_data=validation_data)"
      ],
      "metadata": {
        "colab": {
          "base_uri": "https://localhost:8080/"
        },
        "id": "4JvckVuRD1jT",
        "outputId": "ea2e7b68-4c82-494a-e779-325404c19fe6"
      },
      "execution_count": 16,
      "outputs": [
        {
          "output_type": "stream",
          "name": "stderr",
          "text": [
            "/usr/local/lib/python3.11/dist-packages/keras/src/trainers/data_adapters/py_dataset_adapter.py:121: UserWarning: Your `PyDataset` class should call `super().__init__(**kwargs)` in its constructor. `**kwargs` can include `workers`, `use_multiprocessing`, `max_queue_size`. Do not pass these arguments to `fit()`, as they will be ignored.\n",
            "  self._warn_if_super_not_called()\n"
          ]
        },
        {
          "output_type": "stream",
          "name": "stdout",
          "text": [
            "Epoch 1/20\n",
            "\u001b[1m21/21\u001b[0m \u001b[32m━━━━━━━━━━━━━━━━━━━━\u001b[0m\u001b[37m\u001b[0m \u001b[1m167s\u001b[0m 8s/step - accuracy: 0.5097 - loss: 0.9480 - val_accuracy: 0.5000 - val_loss: 0.6997\n",
            "Epoch 2/20\n",
            "\u001b[1m21/21\u001b[0m \u001b[32m━━━━━━━━━━━━━━━━━━━━\u001b[0m\u001b[37m\u001b[0m \u001b[1m112s\u001b[0m 5s/step - accuracy: 0.5574 - loss: 0.6816 - val_accuracy: 0.5298 - val_loss: 0.7315\n",
            "Epoch 3/20\n",
            "\u001b[1m21/21\u001b[0m \u001b[32m━━━━━━━━━━━━━━━━━━━━\u001b[0m\u001b[37m\u001b[0m \u001b[1m108s\u001b[0m 5s/step - accuracy: 0.6690 - loss: 0.6361 - val_accuracy: 0.5298 - val_loss: 0.9713\n",
            "Epoch 4/20\n",
            "\u001b[1m21/21\u001b[0m \u001b[32m━━━━━━━━━━━━━━━━━━━━\u001b[0m\u001b[37m\u001b[0m \u001b[1m108s\u001b[0m 5s/step - accuracy: 0.6647 - loss: 0.6100 - val_accuracy: 0.5476 - val_loss: 0.7994\n",
            "Epoch 5/20\n",
            "\u001b[1m21/21\u001b[0m \u001b[32m━━━━━━━━━━━━━━━━━━━━\u001b[0m\u001b[37m\u001b[0m \u001b[1m107s\u001b[0m 5s/step - accuracy: 0.7997 - loss: 0.4471 - val_accuracy: 0.5357 - val_loss: 0.8155\n",
            "Epoch 6/20\n",
            "\u001b[1m21/21\u001b[0m \u001b[32m━━━━━━━━━━━━━━━━━━━━\u001b[0m\u001b[37m\u001b[0m \u001b[1m119s\u001b[0m 6s/step - accuracy: 0.8426 - loss: 0.4027 - val_accuracy: 0.5000 - val_loss: 0.8984\n",
            "Epoch 7/20\n",
            "\u001b[1m21/21\u001b[0m \u001b[32m━━━━━━━━━━━━━━━━━━━━\u001b[0m\u001b[37m\u001b[0m \u001b[1m110s\u001b[0m 5s/step - accuracy: 0.8523 - loss: 0.3600 - val_accuracy: 0.5476 - val_loss: 1.1256\n",
            "Epoch 8/20\n",
            "\u001b[1m21/21\u001b[0m \u001b[32m━━━━━━━━━━━━━━━━━━━━\u001b[0m\u001b[37m\u001b[0m \u001b[1m111s\u001b[0m 5s/step - accuracy: 0.8658 - loss: 0.2674 - val_accuracy: 0.5238 - val_loss: 1.3663\n",
            "Epoch 9/20\n",
            "\u001b[1m21/21\u001b[0m \u001b[32m━━━━━━━━━━━━━━━━━━━━\u001b[0m\u001b[37m\u001b[0m \u001b[1m108s\u001b[0m 5s/step - accuracy: 0.9124 - loss: 0.1907 - val_accuracy: 0.4940 - val_loss: 1.3629\n",
            "Epoch 10/20\n",
            "\u001b[1m21/21\u001b[0m \u001b[32m━━━━━━━━━━━━━━━━━━━━\u001b[0m\u001b[37m\u001b[0m \u001b[1m111s\u001b[0m 5s/step - accuracy: 0.9498 - loss: 0.1486 - val_accuracy: 0.4940 - val_loss: 1.4922\n",
            "Epoch 11/20\n",
            "\u001b[1m21/21\u001b[0m \u001b[32m━━━━━━━━━━━━━━━━━━━━\u001b[0m\u001b[37m\u001b[0m \u001b[1m116s\u001b[0m 6s/step - accuracy: 0.9553 - loss: 0.1399 - val_accuracy: 0.4405 - val_loss: 2.2594\n",
            "Epoch 12/20\n",
            "\u001b[1m21/21\u001b[0m \u001b[32m━━━━━━━━━━━━━━━━━━━━\u001b[0m\u001b[37m\u001b[0m \u001b[1m109s\u001b[0m 5s/step - accuracy: 0.9554 - loss: 0.1095 - val_accuracy: 0.5238 - val_loss: 1.4768\n",
            "Epoch 13/20\n",
            "\u001b[1m21/21\u001b[0m \u001b[32m━━━━━━━━━━━━━━━━━━━━\u001b[0m\u001b[37m\u001b[0m \u001b[1m111s\u001b[0m 5s/step - accuracy: 0.9559 - loss: 0.1154 - val_accuracy: 0.4583 - val_loss: 1.6001\n",
            "Epoch 14/20\n",
            "\u001b[1m21/21\u001b[0m \u001b[32m━━━━━━━━━━━━━━━━━━━━\u001b[0m\u001b[37m\u001b[0m \u001b[1m108s\u001b[0m 5s/step - accuracy: 0.9521 - loss: 0.1192 - val_accuracy: 0.4643 - val_loss: 2.8176\n",
            "Epoch 15/20\n",
            "\u001b[1m21/21\u001b[0m \u001b[32m━━━━━━━━━━━━━━━━━━━━\u001b[0m\u001b[37m\u001b[0m \u001b[1m108s\u001b[0m 5s/step - accuracy: 0.9624 - loss: 0.0935 - val_accuracy: 0.4405 - val_loss: 1.8745\n",
            "Epoch 16/20\n",
            "\u001b[1m21/21\u001b[0m \u001b[32m━━━━━━━━━━━━━━━━━━━━\u001b[0m\u001b[37m\u001b[0m \u001b[1m108s\u001b[0m 5s/step - accuracy: 0.9662 - loss: 0.0738 - val_accuracy: 0.4762 - val_loss: 2.3990\n",
            "Epoch 17/20\n",
            "\u001b[1m21/21\u001b[0m \u001b[32m━━━━━━━━━━━━━━━━━━━━\u001b[0m\u001b[37m\u001b[0m \u001b[1m118s\u001b[0m 6s/step - accuracy: 0.9633 - loss: 0.0826 - val_accuracy: 0.5119 - val_loss: 2.3558\n",
            "Epoch 18/20\n",
            "\u001b[1m21/21\u001b[0m \u001b[32m━━━━━━━━━━━━━━━━━━━━\u001b[0m\u001b[37m\u001b[0m \u001b[1m109s\u001b[0m 5s/step - accuracy: 0.9685 - loss: 0.0549 - val_accuracy: 0.4940 - val_loss: 2.4609\n",
            "Epoch 19/20\n",
            "\u001b[1m21/21\u001b[0m \u001b[32m━━━━━━━━━━━━━━━━━━━━\u001b[0m\u001b[37m\u001b[0m \u001b[1m108s\u001b[0m 5s/step - accuracy: 0.9595 - loss: 0.0806 - val_accuracy: 0.4643 - val_loss: 1.8403\n",
            "Epoch 20/20\n",
            "\u001b[1m21/21\u001b[0m \u001b[32m━━━━━━━━━━━━━━━━━━━━\u001b[0m\u001b[37m\u001b[0m \u001b[1m109s\u001b[0m 5s/step - accuracy: 0.9637 - loss: 0.0642 - val_accuracy: 0.4702 - val_loss: 2.4193\n"
          ]
        }
      ]
    },
    {
      "cell_type": "code",
      "source": [
        "import matplotlib.pyplot as plt\n",
        "\n",
        "plt.plot(history.history['accuracy'],color='red',label='train')\n",
        "plt.plot(history.history['val_accuracy'],color='blue',label='validation')\n",
        "plt.legend()\n",
        "plt.show()"
      ],
      "metadata": {
        "colab": {
          "base_uri": "https://localhost:8080/",
          "height": 430
        },
        "id": "lo_fsfhWOyG6",
        "outputId": "9e7fe5f8-746e-4d10-b5e6-831c8f0788b1"
      },
      "execution_count": 17,
      "outputs": [
        {
          "output_type": "display_data",
          "data": {
            "text/plain": [
              "<Figure size 640x480 with 1 Axes>"
            ],
            "image/png": "[encoded data removed]"
          },
          "metadata": {}
        }
      ]
    },
    {
      "cell_type": "code",
      "source": [
        "plt.plot(history.history['loss'],color='red',label='train')\n",
        "plt.plot(history.history['val_loss'],color='blue',label='validation')\n",
        "plt.legend()\n",
        "plt.show()"
      ],
      "metadata": {
        "colab": {
          "base_uri": "https://localhost:8080/",
          "height": 430
        },
        "id": "CstbandcPo_F",
        "outputId": "7a75df9f-78a1-444d-b069-a4c338c01938"
      },
      "execution_count": 18,
      "outputs": [
        {
          "output_type": "display_data",
          "data": {
            "text/plain": [
              "<Figure size 640x480 with 1 Axes>"
            ],
            "image/png": "[encoded data removed]"
          },
          "metadata": {}
        }
      ]
    },
    {
      "cell_type": "code",
      "source": [
        "test_datagen = ImageDataGenerator(rescale=1./255)\n",
        "test_data = test_datagen.flow_from_directory(\n",
        "    test_dir,\n",
        "    target_size=(256,256),\n",
        "    batch_size=32,\n",
        "    class_mode='binary'\n",
        ")"
      ],
      "metadata": {
        "colab": {
          "base_uri": "https://localhost:8080/"
        },
        "id": "7ujy6qKGP90o",
        "outputId": "79a9839f-7fa4-4761-bf14-5e0dcb016611"
      },
      "execution_count": 19,
      "outputs": [
        {
          "output_type": "stream",
          "name": "stdout",
          "text": [
            "Found 188 images belonging to 2 classes.\n"
          ]
        }
      ]
    },
    {
      "cell_type": "code",
      "source": [
        "#predict the test data\n",
        "predictions = model.predict(test_data)"
      ],
      "metadata": {
        "colab": {
          "base_uri": "https://localhost:8080/"
        },
        "id": "j3TUi3L-QFy_",
        "outputId": "a4adeae0-6ee6-408f-ccbb-b0b2d10fa911"
      },
      "execution_count": 20,
      "outputs": [
        {
          "output_type": "stream",
          "name": "stdout",
          "text": [
            "\u001b[1m6/6\u001b[0m \u001b[32m━━━━━━━━━━━━━━━━━━━━\u001b[0m\u001b[37m\u001b[0m \u001b[1m33s\u001b[0m 6s/step\n"
          ]
        }
      ]
    },
    {
      "cell_type": "code",
      "source": [
        "from sklearn.metrics import confusion_matrix, classification_report\n",
        "\n",
        "# Assuming you have ground truth labels (true_labels) and predicted labels (predictions)\n",
        "true_labels = test_data.classes\n",
        "predicted_labels = (predictions > 0.5).astype(int)  # Adjust the threshold as needed\n",
        "\n",
        "# Calculate confusion matrix\n",
        "cm = confusion_matrix(true_labels, predicted_labels)\n",
        "\n",
        "# Print confusion matrix\n",
        "print(\"Confusion Matrix:\")\n",
        "print(cm)\n",
        "\n",
        "# Print classification report\n",
        "print(\"Classification Report:\")\n",
        "print(classification_report(true_labels, predicted_labels))"
      ],
      "metadata": {
        "colab": {
          "base_uri": "https://localhost:8080/"
        },
        "id": "rloz0dcYQXJi",
        "outputId": "caaa3739-e5ca-42ee-bde1-6db9a4764041"
      },
      "execution_count": 21,
      "outputs": [
        {
          "output_type": "stream",
          "name": "stdout",
          "text": [
            "Confusion Matrix:\n",
            "[[48 49]\n",
            " [36 55]]\n",
            "Classification Report:\n",
            "              precision    recall  f1-score   support\n",
            "\n",
            "           0       0.57      0.49      0.53        97\n",
            "           1       0.53      0.60      0.56        91\n",
            "\n",
            "    accuracy                           0.55       188\n",
            "   macro avg       0.55      0.55      0.55       188\n",
            "weighted avg       0.55      0.55      0.55       188\n",
            "\n"
          ]
        }
      ]
    },
    {
      "cell_type": "markdown",
      "source": [
        "There is overfitting and hence applying Batchnormalisation and Dropout techniques to handle overfitting"
      ],
      "metadata": {
        "id": "TmPdoYswdsYm"
      }
    },
    {
      "cell_type": "code",
      "source": [
        "# create CNN model\n",
        "\n",
        "model = Sequential()\n",
        "\n",
        "model.add(Conv2D(32,kernel_size=(3,3),padding='valid',activation='relu',input_shape=(256,256,3)))  # 32 filters\n",
        "model.add(BatchNormalization())  # added to reduce overfitting\n",
        "model.add(MaxPooling2D(pool_size=(2,2),strides=2,padding='valid'))\n",
        "\n",
        "model.add(Conv2D(64,kernel_size=(3,3),padding='valid',activation='relu'))\n",
        "model.add(BatchNormalization())  # added to reduce overfitting\n",
        "model.add(MaxPooling2D(pool_size=(2,2),strides=2,padding='valid'))\n",
        "\n",
        "model.add(Conv2D(128,kernel_size=(3,3),padding='valid',activation='relu'))\n",
        "model.add(BatchNormalization())  # added to reduce overfitting\n",
        "model.add(MaxPooling2D(pool_size=(2,2),strides=2,padding='valid'))\n",
        "\n",
        "model.add(Flatten())\n",
        "\n",
        "model.add(Dense(128,activation='relu')) #feature reduction\n",
        "model.add(Dropout(0.1))  # added to reduce overfitting\n",
        "model.add(Dense(64,activation='relu'))\n",
        "model.add(Dropout(0.1))  # added to reduce overfitting\n",
        "model.add(Dense(1,activation='sigmoid'))  #output layer"
      ],
      "metadata": {
        "colab": {
          "base_uri": "https://localhost:8080/"
        },
        "id": "iQy1qdYRe_ab",
        "outputId": "5d55466a-43d6-482c-d96e-eea880b926d6"
      },
      "execution_count": 22,
      "outputs": [
        {
          "output_type": "stream",
          "name": "stderr",
          "text": [
            "/usr/local/lib/python3.11/dist-packages/keras/src/layers/convolutional/base_conv.py:107: UserWarning: Do not pass an `input_shape`/`input_dim` argument to a layer. When using Sequential models, prefer using an `Input(shape)` object as the first layer in the model instead.\n",
            "  super().__init__(activity_regularizer=activity_regularizer, **kwargs)\n"
          ]
        }
      ]
    },
    {
      "cell_type": "code",
      "source": [
        "from keras.optimizers import Adam\n",
        "model.compile(optimizer=Adam(learning_rate=0.001),loss='binary_crossentropy',metrics=['accuracy'])"
      ],
      "metadata": {
        "id": "ftkImuTufapx"
      },
      "execution_count": 23,
      "outputs": []
    },
    {
      "cell_type": "code",
      "source": [
        "history = model.fit(train_data, epochs=20, validation_data=validation_data)"
      ],
      "metadata": {
        "colab": {
          "base_uri": "https://localhost:8080/"
        },
        "id": "4H44K9qgfwAg",
        "outputId": "fc4ff5c2-9b34-4612-adde-dc7f34b93ba8"
      },
      "execution_count": 24,
      "outputs": [
        {
          "output_type": "stream",
          "name": "stdout",
          "text": [
            "Epoch 1/20\n",
            "\u001b[1m21/21\u001b[0m \u001b[32m━━━━━━━━━━━━━━━━━━━━\u001b[0m\u001b[37m\u001b[0m \u001b[1m173s\u001b[0m 8s/step - accuracy: 0.4899 - loss: 6.2765 - val_accuracy: 0.5476 - val_loss: 2.1704\n",
            "Epoch 2/20\n",
            "\u001b[1m21/21\u001b[0m \u001b[32m━━━━━━━━━━━━━━━━━━━━\u001b[0m\u001b[37m\u001b[0m \u001b[1m166s\u001b[0m 8s/step - accuracy: 0.6268 - loss: 4.0687 - val_accuracy: 0.5119 - val_loss: 3.8348\n",
            "Epoch 3/20\n",
            "\u001b[1m21/21\u001b[0m \u001b[32m━━━━━━━━━━━━━━━━━━━━\u001b[0m\u001b[37m\u001b[0m \u001b[1m166s\u001b[0m 8s/step - accuracy: 0.6775 - loss: 3.2401 - val_accuracy: 0.4940 - val_loss: 10.5165\n",
            "Epoch 4/20\n",
            "\u001b[1m21/21\u001b[0m \u001b[32m━━━━━━━━━━━━━━━━━━━━\u001b[0m\u001b[37m\u001b[0m \u001b[1m164s\u001b[0m 8s/step - accuracy: 0.6545 - loss: 2.5511 - val_accuracy: 0.4940 - val_loss: 10.8338\n",
            "Epoch 5/20\n",
            "\u001b[1m21/21\u001b[0m \u001b[32m━━━━━━━━━━━━━━━━━━━━\u001b[0m\u001b[37m\u001b[0m \u001b[1m165s\u001b[0m 8s/step - accuracy: 0.6648 - loss: 2.4770 - val_accuracy: 0.5119 - val_loss: 6.7643\n",
            "Epoch 6/20\n",
            "\u001b[1m21/21\u001b[0m \u001b[32m━━━━━━━━━━━━━━━━━━━━\u001b[0m\u001b[37m\u001b[0m \u001b[1m165s\u001b[0m 8s/step - accuracy: 0.6961 - loss: 1.5040 - val_accuracy: 0.5060 - val_loss: 4.2281\n",
            "Epoch 7/20\n",
            "\u001b[1m21/21\u001b[0m \u001b[32m━━━━━━━━━━━━━━━━━━━━\u001b[0m\u001b[37m\u001b[0m \u001b[1m166s\u001b[0m 8s/step - accuracy: 0.7443 - loss: 1.2770 - val_accuracy: 0.5238 - val_loss: 3.3841\n",
            "Epoch 8/20\n",
            "\u001b[1m21/21\u001b[0m \u001b[32m━━━━━━━━━━━━━━━━━━━━\u001b[0m\u001b[37m\u001b[0m \u001b[1m164s\u001b[0m 8s/step - accuracy: 0.7303 - loss: 1.0234 - val_accuracy: 0.4940 - val_loss: 2.1767\n",
            "Epoch 9/20\n",
            "\u001b[1m21/21\u001b[0m \u001b[32m━━━━━━━━━━━━━━━━━━━━\u001b[0m\u001b[37m\u001b[0m \u001b[1m166s\u001b[0m 8s/step - accuracy: 0.7455 - loss: 1.0153 - val_accuracy: 0.5536 - val_loss: 1.7909\n",
            "Epoch 10/20\n",
            "\u001b[1m21/21\u001b[0m \u001b[32m━━━━━━━━━━━━━━━━━━━━\u001b[0m\u001b[37m\u001b[0m \u001b[1m164s\u001b[0m 8s/step - accuracy: 0.8031 - loss: 0.6899 - val_accuracy: 0.5476 - val_loss: 2.2072\n",
            "Epoch 11/20\n",
            "\u001b[1m21/21\u001b[0m \u001b[32m━━━━━━━━━━━━━━━━━━━━\u001b[0m\u001b[37m\u001b[0m \u001b[1m165s\u001b[0m 8s/step - accuracy: 0.7968 - loss: 0.7492 - val_accuracy: 0.5000 - val_loss: 4.7013\n",
            "Epoch 12/20\n",
            "\u001b[1m21/21\u001b[0m \u001b[32m━━━━━━━━━━━━━━━━━━━━\u001b[0m\u001b[37m\u001b[0m \u001b[1m164s\u001b[0m 8s/step - accuracy: 0.8278 - loss: 0.5446 - val_accuracy: 0.4821 - val_loss: 3.9392\n",
            "Epoch 13/20\n",
            "\u001b[1m21/21\u001b[0m \u001b[32m━━━━━━━━━━━━━━━━━━━━\u001b[0m\u001b[37m\u001b[0m \u001b[1m164s\u001b[0m 8s/step - accuracy: 0.8676 - loss: 0.5085 - val_accuracy: 0.5000 - val_loss: 4.6835\n",
            "Epoch 14/20\n",
            "\u001b[1m21/21\u001b[0m \u001b[32m━━━━━━━━━━━━━━━━━━━━\u001b[0m\u001b[37m\u001b[0m \u001b[1m164s\u001b[0m 8s/step - accuracy: 0.8483 - loss: 0.8047 - val_accuracy: 0.5119 - val_loss: 4.1589\n",
            "Epoch 15/20\n",
            "\u001b[1m21/21\u001b[0m \u001b[32m━━━━━━━━━━━━━━━━━━━━\u001b[0m\u001b[37m\u001b[0m \u001b[1m164s\u001b[0m 8s/step - accuracy: 0.8472 - loss: 0.6093 - val_accuracy: 0.4405 - val_loss: 2.4068\n",
            "Epoch 16/20\n",
            "\u001b[1m21/21\u001b[0m \u001b[32m━━━━━━━━━━━━━━━━━━━━\u001b[0m\u001b[37m\u001b[0m \u001b[1m164s\u001b[0m 8s/step - accuracy: 0.8479 - loss: 0.4688 - val_accuracy: 0.4702 - val_loss: 2.9069\n",
            "Epoch 17/20\n",
            "\u001b[1m21/21\u001b[0m \u001b[32m━━━━━━━━━━━━━━━━━━━━\u001b[0m\u001b[37m\u001b[0m \u001b[1m163s\u001b[0m 8s/step - accuracy: 0.8834 - loss: 0.3910 - val_accuracy: 0.4881 - val_loss: 2.2403\n",
            "Epoch 18/20\n",
            "\u001b[1m21/21\u001b[0m \u001b[32m━━━━━━━━━━━━━━━━━━━━\u001b[0m\u001b[37m\u001b[0m \u001b[1m167s\u001b[0m 8s/step - accuracy: 0.8852 - loss: 0.4039 - val_accuracy: 0.4524 - val_loss: 1.8803\n",
            "Epoch 19/20\n",
            "\u001b[1m21/21\u001b[0m \u001b[32m━━━━━━━━━━━━━━━━━━━━\u001b[0m\u001b[37m\u001b[0m \u001b[1m164s\u001b[0m 8s/step - accuracy: 0.8725 - loss: 0.4734 - val_accuracy: 0.4762 - val_loss: 1.9539\n",
            "Epoch 20/20\n",
            "\u001b[1m21/21\u001b[0m \u001b[32m━━━━━━━━━━━━━━━━━━━━\u001b[0m\u001b[37m\u001b[0m \u001b[1m164s\u001b[0m 8s/step - accuracy: 0.9101 - loss: 0.2727 - val_accuracy: 0.4762 - val_loss: 2.2283\n"
          ]
        }
      ]
    },
    {
      "cell_type": "code",
      "source": [
        "test_data = test_datagen.flow_from_directory(\n",
        "    test_dir,\n",
        "    target_size=(256,256),\n",
        "    batch_size=32,\n",
        "    class_mode='binary'\n",
        ")"
      ],
      "metadata": {
        "colab": {
          "base_uri": "https://localhost:8080/"
        },
        "id": "3BWZZoksuG8D",
        "outputId": "7e1dc9a3-73cf-4844-c076-03747680dccd"
      },
      "execution_count": 25,
      "outputs": [
        {
          "output_type": "stream",
          "name": "stdout",
          "text": [
            "Found 188 images belonging to 2 classes.\n"
          ]
        }
      ]
    },
    {
      "cell_type": "code",
      "source": [
        "predictions = model.predict(test_data)"
      ],
      "metadata": {
        "colab": {
          "base_uri": "https://localhost:8080/"
        },
        "id": "GCyb19uuubRt",
        "outputId": "3e29347a-6c93-487b-e430-d3fc180263c9"
      },
      "execution_count": 26,
      "outputs": [
        {
          "output_type": "stream",
          "name": "stderr",
          "text": [
            "/usr/local/lib/python3.11/dist-packages/keras/src/trainers/data_adapters/py_dataset_adapter.py:121: UserWarning: Your `PyDataset` class should call `super().__init__(**kwargs)` in its constructor. `**kwargs` can include `workers`, `use_multiprocessing`, `max_queue_size`. Do not pass these arguments to `fit()`, as they will be ignored.\n",
            "  self._warn_if_super_not_called()\n"
          ]
        },
        {
          "output_type": "stream",
          "name": "stdout",
          "text": [
            "\u001b[1m6/6\u001b[0m \u001b[32m━━━━━━━━━━━━━━━━━━━━\u001b[0m\u001b[37m\u001b[0m \u001b[1m12s\u001b[0m 2s/step\n"
          ]
        }
      ]
    },
    {
      "cell_type": "code",
      "source": [
        "from sklearn.metrics import confusion_matrix, classification_report\n",
        "\n",
        "# Assuming you have ground truth labels (true_labels) and predicted labels (predictions)\n",
        "true_labels = test_data.classes\n",
        "predicted_labels = (predictions > 0.5).astype(int)  # Adjust the threshold as needed\n",
        "\n",
        "# Calculate confusion matrix\n",
        "cm = confusion_matrix(true_labels, predicted_labels)\n",
        "\n",
        "# Print confusion matrix\n",
        "print(\"Confusion Matrix:\")\n",
        "print(cm)\n",
        "\n",
        "# Print classification report\n",
        "print(\"Classification Report after applying techniques to handle overfitting:\")\n",
        "print(classification_report(true_labels, predicted_labels))"
      ],
      "metadata": {
        "colab": {
          "base_uri": "https://localhost:8080/"
        },
        "id": "MVTylZlqw6gZ",
        "outputId": "a3baf1fe-04d5-42c3-a312-6a6e49e52956"
      },
      "execution_count": 27,
      "outputs": [
        {
          "output_type": "stream",
          "name": "stdout",
          "text": [
            "Confusion Matrix:\n",
            "[[26 71]\n",
            " [31 60]]\n",
            "Classification Report after applying techniques to handle overfitting:\n",
            "              precision    recall  f1-score   support\n",
            "\n",
            "           0       0.46      0.27      0.34        97\n",
            "           1       0.46      0.66      0.54        91\n",
            "\n",
            "    accuracy                           0.46       188\n",
            "   macro avg       0.46      0.46      0.44       188\n",
            "weighted avg       0.46      0.46      0.44       188\n",
            "\n"
          ]
        }
      ]
    },
    {
      "cell_type": "markdown",
      "source": [
        "Using Pre-trained model - Resnet"
      ],
      "metadata": {
        "id": "nowVwUWbxEvD"
      }
    },
    {
      "cell_type": "code",
      "source": [
        "import tensorflow as tf\n",
        "from tensorflow import keras\n",
        "from keras import Sequential\n",
        "from keras.layers import Dense,Conv2D,MaxPooling2D,Flatten\n",
        "\n",
        "resnet_model = Sequential()\n",
        "pretrained_model = tf.keras.applications.ResNet50(include_top = False,\n",
        "                                                input_shape = (256,256,3),\n",
        "                                                pooling = 'max', classes = 2,\n",
        "                                                weights = 'imagenet')\n",
        "for layer in pretrained_model.layers:\n",
        "    layer.trainable = False\n",
        "\n",
        "resnet_model.add(pretrained_model)\n",
        "resnet_model.add(Flatten())\n",
        "resnet_model.add(Dense(512, activation = 'relu'))\n",
        "resnet_model.add(Dense(1, activation = 'sigmoid'))"
      ],
      "metadata": {
        "colab": {
          "base_uri": "https://localhost:8080/"
        },
        "id": "AaRBWE1ixGwG",
        "outputId": "bdcdd5da-0057-4102-fec3-50c73f8de67f"
      },
      "execution_count": 28,
      "outputs": [
        {
          "output_type": "stream",
          "name": "stdout",
          "text": [
            "Downloading data from https://storage.googleapis.com/tensorflow/keras-applications/resnet/resnet50_weights_tf_dim_ordering_tf_kernels_notop.h5\n",
            "\u001b[1m94765736/94765736\u001b[0m \u001b[32m━━━━━━━━━━━━━━━━━━━━\u001b[0m\u001b[37m\u001b[0m \u001b[1m1s\u001b[0m 0us/step\n"
          ]
        }
      ]
    },
    {
      "cell_type": "code",
      "source": [
        "from keras.optimizers import Adam\n",
        "resnet_model.compile(optimizer=Adam(learning_rate=0.001),loss='binary_crossentropy',metrics=['accuracy'])"
      ],
      "metadata": {
        "id": "xWfQ4-an2gLp"
      },
      "execution_count": 29,
      "outputs": []
    },
    {
      "cell_type": "code",
      "source": [
        "history = resnet_model.fit(train_data, epochs=20, validation_data=validation_data)"
      ],
      "metadata": {
        "colab": {
          "base_uri": "https://localhost:8080/"
        },
        "id": "AcapBYyU2lum",
        "outputId": "aeac9cef-b059-4fee-8868-5a865a9ba485"
      },
      "execution_count": 30,
      "outputs": [
        {
          "output_type": "stream",
          "name": "stdout",
          "text": [
            "Epoch 1/20\n",
            "\u001b[1m21/21\u001b[0m \u001b[32m━━━━━━━━━━━━━━━━━━━━\u001b[0m\u001b[37m\u001b[0m \u001b[1m222s\u001b[0m 10s/step - accuracy: 0.4867 - loss: 4.0461 - val_accuracy: 0.5000 - val_loss: 0.9083\n",
            "Epoch 2/20\n",
            "\u001b[1m21/21\u001b[0m \u001b[32m━━━━━━━━━━━━━━━━━━━━\u001b[0m\u001b[37m\u001b[0m \u001b[1m208s\u001b[0m 10s/step - accuracy: 0.5535 - loss: 0.7721 - val_accuracy: 0.5238 - val_loss: 0.6979\n",
            "Epoch 3/20\n",
            "\u001b[1m21/21\u001b[0m \u001b[32m━━━━━━━━━━━━━━━━━━━━\u001b[0m\u001b[37m\u001b[0m \u001b[1m207s\u001b[0m 10s/step - accuracy: 0.5255 - loss: 0.7319 - val_accuracy: 0.4821 - val_loss: 0.7368\n",
            "Epoch 4/20\n",
            "\u001b[1m21/21\u001b[0m \u001b[32m━━━━━━━━━━━━━━━━━━━━\u001b[0m\u001b[37m\u001b[0m \u001b[1m206s\u001b[0m 10s/step - accuracy: 0.5520 - loss: 0.7006 - val_accuracy: 0.5417 - val_loss: 0.6996\n",
            "Epoch 5/20\n",
            "\u001b[1m21/21\u001b[0m \u001b[32m━━━━━━━━━━━━━━━━━━━━\u001b[0m\u001b[37m\u001b[0m \u001b[1m206s\u001b[0m 10s/step - accuracy: 0.6239 - loss: 0.6453 - val_accuracy: 0.5000 - val_loss: 0.8695\n",
            "Epoch 6/20\n",
            "\u001b[1m21/21\u001b[0m \u001b[32m━━━━━━━━━━━━━━━━━━━━\u001b[0m\u001b[37m\u001b[0m \u001b[1m209s\u001b[0m 10s/step - accuracy: 0.5488 - loss: 0.7211 - val_accuracy: 0.5060 - val_loss: 0.8403\n",
            "Epoch 7/20\n",
            "\u001b[1m21/21\u001b[0m \u001b[32m━━━━━━━━━━━━━━━━━━━━\u001b[0m\u001b[37m\u001b[0m \u001b[1m215s\u001b[0m 10s/step - accuracy: 0.5301 - loss: 0.7228 - val_accuracy: 0.5000 - val_loss: 0.7908\n",
            "Epoch 8/20\n",
            "\u001b[1m21/21\u001b[0m \u001b[32m━━━━━━━━━━━━━━━━━━━━\u001b[0m\u001b[37m\u001b[0m \u001b[1m254s\u001b[0m 10s/step - accuracy: 0.6237 - loss: 0.6241 - val_accuracy: 0.4881 - val_loss: 0.7807\n",
            "Epoch 9/20\n",
            "\u001b[1m21/21\u001b[0m \u001b[32m━━━━━━━━━━━━━━━━━━━━\u001b[0m\u001b[37m\u001b[0m \u001b[1m208s\u001b[0m 10s/step - accuracy: 0.6521 - loss: 0.6202 - val_accuracy: 0.5595 - val_loss: 0.7406\n",
            "Epoch 10/20\n",
            "\u001b[1m21/21\u001b[0m \u001b[32m━━━━━━━━━━━━━━━━━━━━\u001b[0m\u001b[37m\u001b[0m \u001b[1m205s\u001b[0m 10s/step - accuracy: 0.5944 - loss: 0.6502 - val_accuracy: 0.5179 - val_loss: 0.7412\n",
            "Epoch 11/20\n",
            "\u001b[1m21/21\u001b[0m \u001b[32m━━━━━━━━━━━━━━━━━━━━\u001b[0m\u001b[37m\u001b[0m \u001b[1m209s\u001b[0m 10s/step - accuracy: 0.6352 - loss: 0.6091 - val_accuracy: 0.5655 - val_loss: 0.7422\n",
            "Epoch 12/20\n",
            "\u001b[1m21/21\u001b[0m \u001b[32m━━━━━━━━━━━━━━━━━━━━\u001b[0m\u001b[37m\u001b[0m \u001b[1m208s\u001b[0m 10s/step - accuracy: 0.6522 - loss: 0.6304 - val_accuracy: 0.5000 - val_loss: 0.7718\n",
            "Epoch 13/20\n",
            "\u001b[1m21/21\u001b[0m \u001b[32m━━━━━━━━━━━━━━━━━━━━\u001b[0m\u001b[37m\u001b[0m \u001b[1m209s\u001b[0m 10s/step - accuracy: 0.5791 - loss: 0.6961 - val_accuracy: 0.4821 - val_loss: 0.8061\n",
            "Epoch 14/20\n",
            "\u001b[1m21/21\u001b[0m \u001b[32m━━━━━━━━━━━━━━━━━━━━\u001b[0m\u001b[37m\u001b[0m \u001b[1m207s\u001b[0m 10s/step - accuracy: 0.5830 - loss: 0.7312 - val_accuracy: 0.4940 - val_loss: 0.8400\n",
            "Epoch 15/20\n",
            "\u001b[1m21/21\u001b[0m \u001b[32m━━━━━━━━━━━━━━━━━━━━\u001b[0m\u001b[37m\u001b[0m \u001b[1m248s\u001b[0m 12s/step - accuracy: 0.6579 - loss: 0.6040 - val_accuracy: 0.5655 - val_loss: 0.7718\n",
            "Epoch 16/20\n",
            "\u001b[1m21/21\u001b[0m \u001b[32m━━━━━━━━━━━━━━━━━━━━\u001b[0m\u001b[37m\u001b[0m \u001b[1m209s\u001b[0m 10s/step - accuracy: 0.6657 - loss: 0.6181 - val_accuracy: 0.5476 - val_loss: 0.7380\n",
            "Epoch 17/20\n",
            "\u001b[1m21/21\u001b[0m \u001b[32m━━━━━━━━━━━━━━━━━━━━\u001b[0m\u001b[37m\u001b[0m \u001b[1m248s\u001b[0m 12s/step - accuracy: 0.7026 - loss: 0.5762 - val_accuracy: 0.4940 - val_loss: 0.9213\n",
            "Epoch 18/20\n",
            "\u001b[1m21/21\u001b[0m \u001b[32m━━━━━━━━━━━━━━━━━━━━\u001b[0m\u001b[37m\u001b[0m \u001b[1m209s\u001b[0m 10s/step - accuracy: 0.5895 - loss: 0.7039 - val_accuracy: 0.5595 - val_loss: 0.7383\n",
            "Epoch 19/20\n",
            "\u001b[1m21/21\u001b[0m \u001b[32m━━━━━━━━━━━━━━━━━━━━\u001b[0m\u001b[37m\u001b[0m \u001b[1m249s\u001b[0m 12s/step - accuracy: 0.7172 - loss: 0.5450 - val_accuracy: 0.5655 - val_loss: 0.7664\n",
            "Epoch 20/20\n",
            "\u001b[1m21/21\u001b[0m \u001b[32m━━━━━━━━━━━━━━━━━━━━\u001b[0m\u001b[37m\u001b[0m \u001b[1m212s\u001b[0m 10s/step - accuracy: 0.6951 - loss: 0.5881 - val_accuracy: 0.5179 - val_loss: 0.8829\n"
          ]
        }
      ]
    },
    {
      "cell_type": "code",
      "source": [
        "predictions = resnet_model.predict(test_data)"
      ],
      "metadata": {
        "colab": {
          "base_uri": "https://localhost:8080/"
        },
        "id": "MyIHGpq7KoZK",
        "outputId": "59614b0d-8a95-4ff4-d078-3e8863e26577"
      },
      "execution_count": 31,
      "outputs": [
        {
          "output_type": "stream",
          "name": "stderr",
          "text": [
            "WARNING:tensorflow:5 out of the last 13 calls to <function TensorFlowTrainer.make_predict_function.<locals>.one_step_on_data_distributed at 0x7fcf4bdfbe20> triggered tf.function retracing. Tracing is expensive and the excessive number of tracings could be due to (1) creating @tf.function repeatedly in a loop, (2) passing tensors with different shapes, (3) passing Python objects instead of tensors. For (1), please define your @tf.function outside of the loop. For (2), @tf.function has reduce_retracing=True option that can avoid unnecessary retracing. For (3), please refer to https://www.tensorflow.org/guide/function#controlling_retracing and https://www.tensorflow.org/api_docs/python/tf/function for  more details.\n"
          ]
        },
        {
          "output_type": "stream",
          "name": "stdout",
          "text": [
            "\u001b[1m6/6\u001b[0m \u001b[32m━━━━━━━━━━━━━━━━━━━━\u001b[0m\u001b[37m\u001b[0m \u001b[1m52s\u001b[0m 8s/step\n"
          ]
        }
      ]
    },
    {
      "cell_type": "code",
      "source": [
        "from sklearn.metrics import confusion_matrix, classification_report\n",
        "\n",
        "# Assuming you have ground truth labels (true_labels) and predicted labels (predictions)\n",
        "true_labels = test_data.classes\n",
        "predicted_labels = (predictions > 0.5).astype(int)  # Adjust the threshold as needed\n",
        "\n",
        "# Calculate confusion matrix\n",
        "cm = confusion_matrix(true_labels, predicted_labels)\n",
        "\n",
        "# Print confusion matrix\n",
        "print(\"Confusion Matrix:\")\n",
        "print(cm)\n",
        "\n",
        "# Print classification report\n",
        "print(\"Classification Report after applying techniques to handle overfitting:\")\n",
        "print(classification_report(true_labels, predicted_labels))"
      ],
      "metadata": {
        "colab": {
          "base_uri": "https://localhost:8080/"
        },
        "id": "olCYz-t4LHB1",
        "outputId": "61b78ded-1e1c-4562-e073-47460bf3f28c"
      },
      "execution_count": 32,
      "outputs": [
        {
          "output_type": "stream",
          "name": "stdout",
          "text": [
            "Confusion Matrix:\n",
            "[[95  2]\n",
            " [83  8]]\n",
            "Classification Report after applying techniques to handle overfitting:\n",
            "              precision    recall  f1-score   support\n",
            "\n",
            "           0       0.53      0.98      0.69        97\n",
            "           1       0.80      0.09      0.16        91\n",
            "\n",
            "    accuracy                           0.55       188\n",
            "   macro avg       0.67      0.53      0.42       188\n",
            "weighted avg       0.66      0.55      0.43       188\n",
            "\n"
          ]
        }
      ]
    }
  ]
}